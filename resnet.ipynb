{
  "nbformat": 4,
  "nbformat_minor": 0,
  "metadata": {
    "colab": {
      "name": "resnet.ipynb",
      "provenance": [],
      "authorship_tag": "ABX9TyN4VvvzBCl8LHPoqF+fTc6Q",
      "include_colab_link": true
    },
    "kernelspec": {
      "name": "python3",
      "display_name": "Python 3"
    },
    "language_info": {
      "name": "python"
    }
  },
  "cells": [
    {
      "cell_type": "markdown",
      "metadata": {
        "id": "view-in-github",
        "colab_type": "text"
      },
      "source": [
        "<a href=\"https://colab.research.google.com/github/hilars/deep-learning/blob/main/resnet.ipynb\" target=\"_parent\"><img src=\"https://colab.research.google.com/assets/colab-badge.svg\" alt=\"Open In Colab\"/></a>"
      ]
    },
    {
      "cell_type": "code",
      "execution_count": null,
      "metadata": {
        "id": "zZdNbDKOdyV7"
      },
      "outputs": [],
      "source": [
        "import keras\n",
        "from keras.layers import Dense, Conv2D, BatchNormalization, Activation\n",
        "from keras.layers import AveragePooling2D, Input, Flatten\n",
        "from tensorflow.keras.optimizers import Adam\n",
        "from keras.callbacks import ModelCheckpoint, LearningRateScheduler\n",
        "from keras.callbacks import ReduceLROnPlateau\n",
        "from keras.preprocessing.image import ImageDataGenerator\n",
        "from keras.regularizers import l2\n",
        "from keras import backend as K\n",
        "from keras.models import Model\n",
        "from keras.datasets import cifar10\n",
        "import numpy as np\n",
        "import os"
      ]
    },
    {
      "cell_type": "code",
      "source": [
        "from google.colab import drive"
      ],
      "metadata": {
        "id": "PXnDVL2Weeo6"
      },
      "execution_count": null,
      "outputs": []
    },
    {
      "cell_type": "code",
      "source": [
        "\n",
        "# Setting Training Hyperparameters\n",
        "batch_size = 32  # original ResNet paper uses batch_size = 128 for training\n",
        "epochs = 200\n",
        "data_augmentation = True\n",
        "num_classes = 10\n",
        "  \n",
        "# Data Preprocessing \n",
        "subtract_pixel_mean = True\n",
        "n = 3\n",
        "  \n",
        "# Select ResNet Version\n",
        "version = 1\n",
        "  \n",
        "# Computed depth of \n",
        "if version == 1:\n",
        "    depth = n * 6 + 2\n",
        "elif version == 2:\n",
        "    depth = n * 9 + 2\n",
        "  \n",
        "# Model name, depth and version\n",
        "model_type = 'ResNet % dv % d' % (depth, version)\n",
        "  \n",
        "# Load the CIFAR-10 data.\n",
        "(x_train1, y_train), (x_test, y_test) = cifar10.load_data()\n",
        "  \n",
        "# Input image dimensions.\n",
        "input_shape = x_train1.shape[1:]\n",
        "  \n",
        "# Normalize data.\n",
        "x_train = x_train1.astype('float32') / 255\n",
        "x_test = x_test.astype('float32') / 255\n",
        "  \n",
        "# If subtract pixel mean is enabled\n",
        "if subtract_pixel_mean:\n",
        "    x_train_mean = np.mean(x_train, axis = 0)\n",
        "    x_train -= x_train_mean\n",
        "    x_test -= x_train_mean\n",
        "  \n",
        "# Print Training and Test Samples \n",
        "print('x_train shape:', x_train.shape)\n",
        "print(x_train.shape[0], 'train samples')\n",
        "print(x_test.shape[0], 'test samples')\n",
        "print('y_train shape:', y_train.shape)\n",
        "  \n",
        "# Convert class vectors to binary class matrices.\n",
        "y_train = keras.utils.np_utils.to_categorical(y_train, num_classes)\n",
        "y_test = keras.utils.np_utils.to_categorical(y_test, num_classes)"
      ],
      "metadata": {
        "colab": {
          "base_uri": "https://localhost:8080/"
        },
        "id": "7bT2URw5gIBB",
        "outputId": "687b78ed-e527-47f2-f590-acdb7141ffba"
      },
      "execution_count": null,
      "outputs": [
        {
          "output_type": "stream",
          "name": "stdout",
          "text": [
            "x_train shape: (50000, 32, 32, 3)\n",
            "50000 train samples\n",
            "10000 test samples\n",
            "y_train shape: (50000, 1)\n"
          ]
        }
      ]
    },
    {
      "cell_type": "code",
      "source": [
        "import cv2 as cv\n",
        "from matplotlib import pyplot as plt"
      ],
      "metadata": {
        "id": "E5UTMKiKmHPC"
      },
      "execution_count": null,
      "outputs": []
    },
    {
      "cell_type": "code",
      "source": [
        "plt.imshow(x_test[0])"
      ],
      "metadata": {
        "colab": {
          "base_uri": "https://localhost:8080/",
          "height": 301
        },
        "id": "B16FRDs0mKXq",
        "outputId": "e4c10c35-20b3-4ce1-ea74-d2075dd7679b"
      },
      "execution_count": null,
      "outputs": [
        {
          "output_type": "stream",
          "name": "stderr",
          "text": [
            "Clipping input data to the valid range for imshow with RGB data ([0..1] for floats or [0..255] for integers).\n"
          ]
        },
        {
          "output_type": "execute_result",
          "data": {
            "text/plain": [
              "<matplotlib.image.AxesImage at 0x7fb41515a610>"
            ]
          },
          "metadata": {},
          "execution_count": 20
        },
        {
          "output_type": "display_data",
          "data": {
            "image/png": "[encoded data removed]",
            "text/plain": [
              "<Figure size 432x288 with 1 Axes>"
            ]
          },
          "metadata": {
            "needs_background": "light"
          }
        }
      ]
    },
    {
      "cell_type": "code",
      "source": [
        "# Setting LR for different number of Epochs\n",
        "def lr_schedule(epoch):\n",
        "    lr = 1e-3\n",
        "    if epoch > 180:\n",
        "        lr *= 0.5e-3\n",
        "    elif epoch > 160:\n",
        "        lr *= 1e-3\n",
        "    elif epoch > 120:\n",
        "        lr *= 1e-2\n",
        "    elif epoch > 80:\n",
        "        lr *= 1e-1\n",
        "    print('Learning rate: ', lr)\n",
        "    return lr"
      ],
      "metadata": {
        "id": "7r1wWAJPhgXg"
      },
      "execution_count": null,
      "outputs": []
    },
    {
      "cell_type": "code",
      "source": [
        "# Basic ResNet Building Block\n",
        "def resnet_layer(inputs,\n",
        "                 num_filters = 16,\n",
        "                 kernel_size = 3,\n",
        "                 strides = 1,\n",
        "                 activation ='relu',\n",
        "                 batch_normalization = True,):\n",
        "    conv = Conv2D(num_filters,\n",
        "                  kernel_size = kernel_size,\n",
        "                  strides = strides,\n",
        "                  padding ='same',\n",
        "                  kernel_initializer ='he_normal',\n",
        "                  kernel_regularizer = l2(1e-4))\n",
        "  \n",
        "    x = inputs\n",
        "    if conv_first:\n",
        "        x = conv(x)\n",
        "        if batch_normalization:\n",
        "            x = BatchNormalization()(x)\n",
        "        if activation is not None:\n",
        "            x = Activation(activation)(x)\n",
        "    else:\n",
        "        if batch_normalization:\n",
        "            x = BatchNormalization()(x)\n",
        "        if activation is not None:\n",
        "            x = Activation(activation)(x)\n",
        "        x = conv(x)\n",
        "    return x"
      ],
      "metadata": {
        "id": "h7xq_Zm0hoCu"
      },
      "execution_count": null,
      "outputs": []
    },
    {
      "cell_type": "code",
      "source": [
        "#\n",
        "def resnet_v1(input_shape, depth, num_classes = 10):\n",
        "\t\n",
        "\tif (depth - 2) % 6 != 0:\n",
        "\t\traise ValueError('depth should be 6n + 2 (eg 20, 32, 44 in [a])')\n",
        "\t# Start model definition.\n",
        "\tnum_filters = 16\n",
        "\tnum_res_blocks = int((depth - 2) / 6)\n",
        "\n",
        "\tinputs = Input(shape = input_shape)\n",
        "\tx = resnet_layer(inputs = inputs)\n",
        "\t# Instantiate the stack of residual units\n",
        "\tfor stack in range(3):\n",
        "\t\tfor res_block in range(num_res_blocks):\n",
        "\t\t\tstrides = 1\n",
        "\t\t\tif stack > 0 and res_block == 0: # first layer but not first stack\n",
        "\t\t\t\tstrides = 2 # downsample\n",
        "\t\t\ty = resnet_layer(inputs = x,\n",
        "\t\t\t\t\t\t\tnum_filters = num_filters,\n",
        "\t\t\t\t\t\t\tstrides = strides)\n",
        "\t\t\ty = resnet_layer(inputs = y,\n",
        "\t\t\t\t\t\t\tnum_filters = num_filters,\n",
        "\t\t\t\t\t\t\tactivation = None)\n",
        "\t\t\tif stack > 0 and res_block == 0: # first layer but not first stack\n",
        "\t\t\t\t# linear projection residual shortcut connection to match\n",
        "\t\t\t\t# changed dims\n",
        "\t\t\t\tx = resnet_layer(inputs = x,\n",
        "\t\t\t\t\t\t\t\tnum_filters = num_filters,\n",
        "\t\t\t\t\t\t\t\tkernel_size = 1,\n",
        "\t\t\t\t\t\t\t\tstrides = strides,\n",
        "\t\t\t\t\t\t\t\tactivation = None,\n",
        "\t\t\t\t\t\t\t\tbatch_normalization = False)\n",
        "\t\t\tx = keras.layers.add([x, y])\n",
        "\t\t\tx = Activation('relu')(x)\n",
        "\t\tnum_filters *= 2\n",
        "\n",
        "\t# Add classifier on top.\n",
        "\t# v1 does not use BN after last shortcut connection-ReLU\n",
        "\tx = AveragePooling2D(pool_size = 8)(x)\n",
        "\ty = Flatten()(x)\n",
        "\toutputs = Dense(num_classes,\n",
        "\t\t\t\t\tactivation ='softmax',\n",
        "\t\t\t\t\tkernel_initializer ='he_normal')(y)\n",
        "\n",
        "\t# Instantiate model.\n",
        "\tmodel = Model(inputs = inputs, outputs = outputs)\n",
        "\treturn model\n"
      ],
      "metadata": {
        "id": "Lvham6f7lNHX"
      },
      "execution_count": null,
      "outputs": []
    },
    {
      "cell_type": "code",
      "source": [
        "# ResNet V2 architecture\n",
        "def resnet_v2(input_shape, depth, num_classes = 10):\n",
        "    if (depth - 2) % 9 != 0:\n",
        "        raise ValueError('depth should be 9n + 2 (eg 56 or 110 in [b])')\n",
        "    # Start model definition.\n",
        "    num_filters_in = 16\n",
        "    num_res_blocks = int((depth - 2) / 9)\n",
        "  \n",
        "    inputs = Input(shape = input_shape)\n",
        "    # v2 performs Conv2D with BN-ReLU on input before splitting into 2 paths\n",
        "    x = resnet_layer(inputs = inputs,\n",
        "                     num_filters = num_filters_in,\n",
        "                     conv_first = True)\n",
        "  \n",
        "    # Instantiate the stack of residual units\n",
        "    for stage in range(3):\n",
        "        for res_block in range(num_res_blocks):\n",
        "            activation = 'relu'\n",
        "            batch_normalization = True\n",
        "            strides = 1\n",
        "            if stage == 0:\n",
        "                num_filters_out = num_filters_in * 4\n",
        "                if res_block == 0:  # first layer and first stage\n",
        "                    activation = None\n",
        "                    batch_normalization = False\n",
        "            else:\n",
        "                num_filters_out = num_filters_in * 2\n",
        "                if res_block == 0:  # first layer but not first stage\n",
        "                    strides = 2    # downsample\n",
        "  \n",
        "            # bottleneck residual unit\n",
        "            y = resnet_layer(inputs = x,\n",
        "                             num_filters = num_filters_in,\n",
        "                             kernel_size = 1,\n",
        "                             strides = strides,\n",
        "                             activation = activation,\n",
        "                             batch_normalization = batch_normalization,\n",
        "                             conv_first = False)\n",
        "            y = resnet_layer(inputs = y,\n",
        "                             num_filters = num_filters_in,\n",
        "                             conv_first = False)\n",
        "            y = resnet_layer(inputs = y,\n",
        "                             num_filters = num_filters_out,\n",
        "                             kernel_size = 1,\n",
        "                             conv_first = False)\n",
        "            if res_block == 0:\n",
        "                # linear projection residual shortcut connection to match\n",
        "                # changed dims\n",
        "                x = resnet_layer(inputs = x,\n",
        "                                 num_filters = num_filters_out,\n",
        "                                 kernel_size = 1,\n",
        "                                 strides = strides,\n",
        "                                 activation = None,\n",
        "                                 batch_normalization = False)\n",
        "            x = keras.layers.add([x, y])\n",
        "  \n",
        "        num_filters_in = num_filters_out\n",
        "  \n",
        "    # Add classifier on top.\n",
        "    # v2 has BN-ReLU before Pooling\n",
        "    x = BatchNormalization()(x)\n",
        "    x = Activation('relu')(x)\n",
        "    x = AveragePooling2D(pool_size = 8)(x)\n",
        "    y = Flatten()(x)\n",
        "    outputs = Dense(num_classes,\n",
        "                    activation ='softmax',\n",
        "                    kernel_initializer ='he_normal')(y)\n",
        "  \n",
        "    # Instantiate model.\n",
        "    model = Model(inputs = inputs, outputs = outputs)\n",
        "    return model"
      ],
      "metadata": {
        "id": "aflFg1BRp0MY"
      },
      "execution_count": null,
      "outputs": []
    },
    {
      "cell_type": "code",
      "source": [
        "# Main function \n",
        "if version == 2:\n",
        "    model = resnet_v2(input_shape = input_shape, depth = depth)\n",
        "else:\n",
        "    model = resnet_v1(input_shape = input_shape, depth = depth)\n",
        "  \n",
        "model.compile(loss ='categorical_crossentropy',\n",
        "              optimizer = Adam(learning_rate = lr_schedule(0)),\n",
        "              metrics =['accuracy'])\n",
        "model.summary()\n",
        "print(model_type)\n",
        "  \n",
        "# Prepare model model saving directory.\n",
        "save_dir = os.path.join(os.getcwd(), 'saved_models')\n",
        "model_name = 'cifar10_% s_model.{epoch:03d}.h5' % model_type\n",
        "if not os.path.isdir(save_dir):\n",
        "    os.makedirs(save_dir)\n",
        "filepath = os.path.join(save_dir, model_name)\n",
        "  \n",
        "# Prepare callbacks for model saving and for learning rate adjustment.\n",
        "checkpoint = ModelCheckpoint(filepath = filepath,\n",
        "                             monitor ='val_acc',\n",
        "                             verbose = 1,\n",
        "                             save_best_only = True)\n",
        "  \n",
        "lr_scheduler = LearningRateScheduler(lr_schedule)\n",
        "  \n",
        "lr_reducer = ReduceLROnPlateau(factor = np.sqrt(0.1),\n",
        "                               cooldown = 0,\n",
        "                               patience = 5,\n",
        "                               min_lr = 0.5e-6)\n",
        "  \n",
        "callbacks = [checkpoint, lr_reducer, lr_scheduler]\n",
        "  \n",
        "# Run training, with or without data augmentation.\n",
        "if not data_augmentation:\n",
        "    print('Not using data augmentation.')\n",
        "    model.fit(x_train, y_train,\n",
        "              batch_size = batch_size,\n",
        "              epochs = epochs,\n",
        "              validation_data =(x_test, y_test),\n",
        "              shuffle = True,\n",
        "              callbacks = callbacks)\n",
        "else:\n",
        "    print('Using real-time data augmentation.')\n",
        "    # This will do preprocessing and realtime data augmentation:\n",
        "    datagen = ImageDataGenerator(\n",
        "        # set input mean to 0 over the dataset\n",
        "        featurewise_center = False,\n",
        "        # set each sample mean to 0\n",
        "        samplewise_center = False,\n",
        "        # divide inputs by std of dataset\n",
        "        featurewise_std_normalization = False,\n",
        "        # divide each input by its std\n",
        "        samplewise_std_normalization = False,\n",
        "        # apply ZCA whitening\n",
        "        zca_whitening = False,\n",
        "        # epsilon for ZCA whitening\n",
        "        zca_epsilon = 1e-06,\n",
        "        # randomly rotate images in the range (deg 0 to 180)\n",
        "        rotation_range = 0,\n",
        "        # randomly shift images horizontally\n",
        "        width_shift_range = 0.1,\n",
        "        # randomly shift images vertically\n",
        "        height_shift_range = 0.1,\n",
        "        # set range for random shear\n",
        "        shear_range = 0.,\n",
        "        # set range for random zoom\n",
        "        zoom_range = 0.,\n",
        "        # set range for random channel shifts\n",
        "        channel_shift_range = 0.,\n",
        "        # set mode for filling points outside the input boundaries\n",
        "        fill_mode ='nearest',\n",
        "        # value used for fill_mode = \"constant\"\n",
        "        cval = 0.,\n",
        "        # randomly flip images\n",
        "        horizontal_flip = True,\n",
        "        # randomly flip images\n",
        "        vertical_flip = False,\n",
        "        # set rescaling factor (applied before any other transformation)\n",
        "        rescale = None,\n",
        "        # set function that will be applied on each input\n",
        "        preprocessing_function = None,\n",
        "        # image data format, either \"channels_first\" or \"channels_last\"\n",
        "        data_format = None,\n",
        "        # fraction of images reserved for validation (strictly between 0 and 1)\n",
        "        validation_split = 0.0)\n",
        "  \n",
        "    # Compute quantities required for featurewise normalization\n",
        "    # (std, mean, and principal components if ZCA whitening is applied).\n",
        "    datagen.fit(x_train)\n",
        "  \n",
        "    # Fit the model on the batches generated by datagen.flow().\n",
        "    model.fit_generator(datagen.flow(x_train, y_train, batch_size = batch_size),\n",
        "                        validation_data =(x_test, y_test),\n",
        "                        epochs = epochs, verbose = 1, workers = 4,\n",
        "                        callbacks = callbacks)\n",
        "  \n",
        "# Score trained model.\n",
        "scores = model.evaluate(x_test, y_test, verbose = 1)\n",
        "print('Test loss:', scores[0])\n",
        "print('Test accuracy:', scores[1])"
      ],
      "metadata": {
        "colab": {
          "base_uri": "https://localhost:8080/",
          "height": 380
        },
        "id": "BiJj8sulp2es",
        "outputId": "43f9e0fe-4353-4924-e000-3c6447a46487"
      },
      "execution_count": null,
      "outputs": [
        {
          "output_type": "error",
          "ename": "NameError",
          "evalue": "ignored",
          "traceback": [
            "\u001b[0;31m---------------------------------------------------------------------------\u001b[0m",
            "\u001b[0;31mNameError\u001b[0m                                 Traceback (most recent call last)",
            "\u001b[0;32m<ipython-input-23-a88bb7bf9b52>\u001b[0m in \u001b[0;36m<module>\u001b[0;34m()\u001b[0m\n\u001b[1;32m      3\u001b[0m     \u001b[0mmodel\u001b[0m \u001b[0;34m=\u001b[0m \u001b[0mresnet_v2\u001b[0m\u001b[0;34m(\u001b[0m\u001b[0minput_shape\u001b[0m \u001b[0;34m=\u001b[0m \u001b[0minput_shape\u001b[0m\u001b[0;34m,\u001b[0m \u001b[0mdepth\u001b[0m \u001b[0;34m=\u001b[0m \u001b[0mdepth\u001b[0m\u001b[0;34m)\u001b[0m\u001b[0;34m\u001b[0m\u001b[0;34m\u001b[0m\u001b[0m\n\u001b[1;32m      4\u001b[0m \u001b[0;32melse\u001b[0m\u001b[0;34m:\u001b[0m\u001b[0;34m\u001b[0m\u001b[0;34m\u001b[0m\u001b[0m\n\u001b[0;32m----> 5\u001b[0;31m     \u001b[0mmodel\u001b[0m \u001b[0;34m=\u001b[0m \u001b[0mresnet_v1\u001b[0m\u001b[0;34m(\u001b[0m\u001b[0minput_shape\u001b[0m \u001b[0;34m=\u001b[0m \u001b[0minput_shape\u001b[0m\u001b[0;34m,\u001b[0m \u001b[0mdepth\u001b[0m \u001b[0;34m=\u001b[0m \u001b[0mdepth\u001b[0m\u001b[0;34m)\u001b[0m\u001b[0;34m\u001b[0m\u001b[0;34m\u001b[0m\u001b[0m\n\u001b[0m\u001b[1;32m      6\u001b[0m \u001b[0;34m\u001b[0m\u001b[0m\n\u001b[1;32m      7\u001b[0m model.compile(loss ='categorical_crossentropy',\n",
            "\u001b[0;32m<ipython-input-21-daadf7cf30d7>\u001b[0m in \u001b[0;36mresnet_v1\u001b[0;34m(input_shape, depth, num_classes)\u001b[0m\n\u001b[1;32m      9\u001b[0m \u001b[0;34m\u001b[0m\u001b[0m\n\u001b[1;32m     10\u001b[0m         \u001b[0minputs\u001b[0m \u001b[0;34m=\u001b[0m \u001b[0mInput\u001b[0m\u001b[0;34m(\u001b[0m\u001b[0mshape\u001b[0m \u001b[0;34m=\u001b[0m \u001b[0minput_shape\u001b[0m\u001b[0;34m)\u001b[0m\u001b[0;34m\u001b[0m\u001b[0;34m\u001b[0m\u001b[0m\n\u001b[0;32m---> 11\u001b[0;31m         \u001b[0mx\u001b[0m \u001b[0;34m=\u001b[0m \u001b[0mresnet_layer\u001b[0m\u001b[0;34m(\u001b[0m\u001b[0minputs\u001b[0m \u001b[0;34m=\u001b[0m \u001b[0minputs\u001b[0m\u001b[0;34m)\u001b[0m\u001b[0;34m\u001b[0m\u001b[0;34m\u001b[0m\u001b[0m\n\u001b[0m\u001b[1;32m     12\u001b[0m         \u001b[0;31m# Instantiate the stack of residual units\u001b[0m\u001b[0;34m\u001b[0m\u001b[0;34m\u001b[0m\u001b[0;34m\u001b[0m\u001b[0m\n\u001b[1;32m     13\u001b[0m         \u001b[0;32mfor\u001b[0m \u001b[0mstack\u001b[0m \u001b[0;32min\u001b[0m \u001b[0mrange\u001b[0m\u001b[0;34m(\u001b[0m\u001b[0;36m3\u001b[0m\u001b[0;34m)\u001b[0m\u001b[0;34m:\u001b[0m\u001b[0;34m\u001b[0m\u001b[0;34m\u001b[0m\u001b[0m\n",
            "\u001b[0;32m<ipython-input-9-eaaa573ab0ce>\u001b[0m in \u001b[0;36mresnet_layer\u001b[0;34m(inputs, num_filters, kernel_size, strides, activation, batch_normalization)\u001b[0m\n\u001b[1;32m     14\u001b[0m \u001b[0;34m\u001b[0m\u001b[0m\n\u001b[1;32m     15\u001b[0m     \u001b[0mx\u001b[0m \u001b[0;34m=\u001b[0m \u001b[0minputs\u001b[0m\u001b[0;34m\u001b[0m\u001b[0;34m\u001b[0m\u001b[0m\n\u001b[0;32m---> 16\u001b[0;31m     \u001b[0;32mif\u001b[0m \u001b[0mconv_first\u001b[0m\u001b[0;34m:\u001b[0m\u001b[0;34m\u001b[0m\u001b[0;34m\u001b[0m\u001b[0m\n\u001b[0m\u001b[1;32m     17\u001b[0m         \u001b[0mx\u001b[0m \u001b[0;34m=\u001b[0m \u001b[0mconv\u001b[0m\u001b[0;34m(\u001b[0m\u001b[0mx\u001b[0m\u001b[0;34m)\u001b[0m\u001b[0;34m\u001b[0m\u001b[0;34m\u001b[0m\u001b[0m\n\u001b[1;32m     18\u001b[0m         \u001b[0;32mif\u001b[0m \u001b[0mbatch_normalization\u001b[0m\u001b[0;34m:\u001b[0m\u001b[0;34m\u001b[0m\u001b[0;34m\u001b[0m\u001b[0m\n",
            "\u001b[0;31mNameError\u001b[0m: name 'conv_first' is not defined"
          ]
        }
      ]
    }
  ]
}